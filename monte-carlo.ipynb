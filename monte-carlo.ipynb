{
 "cells": [
  {
   "cell_type": "markdown",
   "metadata": {},
   "source": [
    "## Monte Carlo Exercise 1 \n",
    "# Lorenzo Speri and Carlo Tombolini\n"
   ]
  },
  {
   "cell_type": "markdown",
   "metadata": {},
   "source": [
    "the feature variable $X \\in [0,1]$ is a real-valued and 1-dimensional, and the response $Y \\in \\{0, 1\\}$ \n",
    "$$p(Y=0) = p(Y=1) = 1/2$$\n",
    "$$p(X = x| Y = 0) = 2 - 2x$$\n",
    "$$p(X = x| Y = 1) = 2x$$"
   ]
  },
  {
   "cell_type": "markdown",
   "metadata": {},
   "source": [
    "Applying the Bayes formula\n",
    "$$\n",
    "p(Y|X) = \\frac{p(X|Y) p(Y)}{p(X)}\n",
    "$$\n",
    "to our likelihoods, we obtain the feature density\n",
    "$$p(X) = p(X|Y=0)p(Y=0) + p(X|Y=1)p(Y=1) = 1$$\n",
    "So the posteriors are\n",
    "\\begin{eqnarray}\n",
    "p(Y=0|X) = 1-x\\\\\n",
    "p(Y=1|X) = x \\\\\n",
    "\\end{eqnarray}"
   ]
  },
  {
   "cell_type": "markdown",
   "metadata": {},
   "source": [
    "In order to find the data set we apply the following algorithm:\n",
    "<br>\n",
    "sample $Y \\in \\{0,1\\}$  \n",
    "<br>\n",
    "find the features $x$ using the inverse transform sampling:\n",
    "$$CP(x|Y) = \\int_0 ^{x'} P(X=x'|Y) dx'$$\n",
    "where CP is the cumulative distribution. \n",
    "If $Y = 0$\n",
    "$$\n",
    "CP(x|Y=0)= \\int_0 ^{x'} 2-2x' dx' = 2(x-\\frac{x^2}{2})\n",
    "$$\n",
    "If $Y = 1$\n",
    "$$\n",
    "CP(x|Y=1)= \\int_0 ^{x'} 2x' dx' = x^2)\\\\\n",
    "$$\n",
    "So we sample $u$ from a uniform distribution $[0,1)$ in order to obtain $x$ according to the different cases $Y =0$ or $1$\n",
    "$$\n",
    "u \\equiv CP(x|Y)\n",
    "$$\n",
    "For $Y = 0$ the correspondent features will be $x = 1- \\sqrt{1-u}$\n",
    "<br>\n",
    "For $Y=1$ the correspondent features will be $x=\\sqrt{u}$\n"
   ]
  },
  {
   "cell_type": "code",
   "execution_count": 1,
<<<<<<< HEAD
   "metadata": {},
   "outputs": [],
   "source": [
    "# importing the libraries\n",
    "import numpy as np\n",
    "import sklearn\n",
    "import matplotlib.pyplot as plt\n",
    "# define the size of the data set\n",
    "N = 1000"
=======
   "metadata": {
    "collapsed": true
   },
   "outputs": [],
   "source": [
    "# importing the libraries\n",
    "import numpy as np\n",
    "import sklearn\n",
    "import matplotlib.pyplot as plt\n",
    "# define the size of the data set\n",
    "N = 10000"
   ]
  },
  {
   "cell_type": "code",
   "execution_count": 2,
   "metadata": {
    "collapsed": true
   },
   "outputs": [],
   "source": [
    "y = np.random.randint(2, size=N)\n",
    "#print(y)"
   ]
  },
  {
   "cell_type": "code",
   "execution_count": 3,
   "metadata": {
    "scrolled": true
   },
   "outputs": [
    {
     "data": {
      "image/png": "iVBORw0KGgoAAAANSUhEUgAAAW4AAAD8CAYAAABXe05zAAAABHNCSVQICAgIfAhkiAAAAAlwSFlz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\ncww1AAAAAElFTkSuQmCC\n",
      "text/plain": [
       "<Figure size 432x288 with 1 Axes>"
      ]
     },
     "metadata": {},
     "output_type": "display_data"
    }
   ],
   "source": [
    "# plot check\n",
    "count, bins, ignored = plt.hist(y, 15, density=True)\n",
    "#plt.plot(bins, np.ones_like(bins), linewidth=2)\n",
    "plt.show()"
   ]
  },
  {
   "cell_type": "code",
   "execution_count": 3,
   "metadata": {
    "collapsed": true
   },
   "outputs": [],
   "source": [
    "# generate uniform distribution of u\n",
    "#u = np.random.uniform(0,1,1)\n",
    "# define x\n",
    "x = np.array([])\n",
    "# array benchmark of p(x|y=0)\n",
    "x_y0 = np.array([])\n",
    "# array benchmark of p(x|y=1)\n",
    "x_y1 = np.array([])\n",
    "\n",
    "# get the featrues x\n",
    "for k in range(N):\n",
    "    u = np.random.uniform(0,1,1)\n",
    "    if y[k]==0:\n",
    "        #all_primes = np.append(all_primes,[n])\n",
    "        x = np.append(x,[1 - np.sqrt(1-u)]) \n",
    "        x_y0 = np.append(x_y0,[1 - np.sqrt(1-u)]) \n",
    "    else:\n",
    "        x = np.append(x,[np.sqrt(u)])\n",
    "        x_y1 = np.append(x_y1,[np.sqrt(u)])\n"
>>>>>>> Carlotombo-patch-1
   ]
  },
  {
   "cell_type": "code",
<<<<<<< HEAD
   "execution_count": 236,
=======
   "execution_count": 4,
>>>>>>> Carlotombo-patch-1
   "metadata": {},
   "outputs": [],
   "source": [
    "y = np.random.randint(2, size=N)\n",
    "#print(y)"
   ]
  },
  {
   "cell_type": "code",
   "execution_count": 237,
   "metadata": {
    "scrolled": true
   },
   "outputs": [
    {
     "data": {
<<<<<<< HEAD
      "image/png": "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\n",
=======
      "image/png": "iVBORw0KGgoAAAANSUhEUgAAAX4AAAD8CAYAAABw1c+bAAAABHNCSVQICAgIfAhkiAAAAAlwSFlz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\nEYkySvwiIlHm/wEkw5Ycx/+ywQAAAABJRU5ErkJggg==\n",
>>>>>>> Carlotombo-patch-1
      "text/plain": [
       "<Figure size 432x288 with 1 Axes>"
      ]
     },
     "metadata": {},
<<<<<<< HEAD
=======
     "output_type": "display_data"
    }
   ],
   "source": [
    "# check the distribution of p(x|y=0)\n",
    "# plot check\n",
    "count, bins, ignored = plt.hist(x_y0, 40, density=True)\n",
    "plt.plot([0, 1], [2, 0], 'r-', lw=2)\n",
    "# plt.plot(bins, np.ones_like(bins), linewidth=2)\n",
    "plt.show()"
   ]
  },
  {
   "cell_type": "code",
   "execution_count": 5,
   "metadata": {
    "scrolled": true
   },
   "outputs": [
    {
     "data": {
      "image/png": "iVBORw0KGgoAAAANSUhEUgAAAXcAAAD8CAYAAACMwORRAAAABHNCSVQICAgIfAhkiAAAAAlwSFlz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\nLiISgv4PS0JnLBhFUacAAAAASUVORK5CYII=\n",
      "text/plain": [
       "<Figure size 432x288 with 1 Axes>"
      ]
     },
     "metadata": {},
>>>>>>> Carlotombo-patch-1
     "output_type": "display_data"
    }
   ],
   "source": [
<<<<<<< HEAD
    "# plot check\n",
    "count, bins, ignored = plt.hist(y, 15, density=True)\n",
    "plt.plot(bins, np.ones_like(bins), linewidth=2)\n",
=======
    "# check the distribution of p(x|y=1)\n",
    "# plot check\n",
    "count, bins, ignored = plt.hist(x_y1, 40, density=True)\n",
    "plt.plot([0, 1], [0, 2], 'r-', lw=2)\n",
    "# plt.plot(bins, np.ones_like(bins), linewidth=2)\n",
>>>>>>> Carlotombo-patch-1
    "plt.show()"
   ]
  },
  {
   "cell_type": "code",
<<<<<<< HEAD
   "execution_count": 238,
   "metadata": {},
   "outputs": [],
   "source": [
    "# generate uniform distribution of u\n",
    "#u = np.random.uniform(0,1,1)\n",
    "# define x\n",
    "x = np.array([])\n",
    "# array benchmark of p(x|y=0)\n",
    "x_y0 = np.array([])\n",
    "# array benchmark of p(x|y=1)\n",
    "x_y1 = np.array([])\n",
    "\n",
    "# get the features x\n",
    "for k in range(N):\n",
    "    u = np.random.uniform(0,1,1)\n",
    "    if y[k]==0:\n",
    "        #all_primes = np.append(all_primes,[n])\n",
    "        x = np.append(x,[1 - np.sqrt(1-u)]) \n",
    "        x_y0 = np.append(x_y0,[1 - np.sqrt(1-u)]) \n",
    "    else:\n",
    "        x = np.append(x,[np.sqrt(u)])\n",
    "        x_y1 = np.append(x_y1,[np.sqrt(u)])\n"
   ]
  },
  {
   "cell_type": "code",
   "execution_count": 242,
   "metadata": {},
   "outputs": [
    {
     "data": {
      "image/png": "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\n",
      "text/plain": [
       "<Figure size 432x288 with 1 Axes>"
      ]
     },
     "metadata": {},
     "output_type": "display_data"
    }
   ],
   "source": [
    "# check the distribution of p(x|y=0)\n",
    "# plot check\n",
    "count, bins, ignored = plt.hist(x_y0, 40, density=True)\n",
    "# plt.plot(bins, np.ones_like(bins), linewidth=2)\n",
    "plt.show()"
   ]
  },
  {
   "cell_type": "code",
   "execution_count": 240,
   "metadata": {
    "scrolled": true
   },
   "outputs": [
    {
     "data": {
      "image/png": "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\n",
      "text/plain": [
       "<Figure size 432x288 with 1 Axes>"
      ]
     },
     "metadata": {},
     "output_type": "display_data"
    }
   ],
   "source": [
    "# check the distribution of p(x|y=1)\n",
    "# plot check\n",
    "count, bins, ignored = plt.hist(x_y1, 40, density=True)\n",
    "# plt.plot(bins, np.ones_like(bins), linewidth=2)\n",
    "plt.show()"
   ]
  },
  {
   "cell_type": "code",
   "execution_count": 10,
   "metadata": {},
   "outputs": [
    {
     "data": {
      "image/png": "iVBORw0KGgoAAAANSUhEUgAAAX4AAAD8CAYAAABw1c+bAAAABHNCSVQICAgIfAhkiAAAAAlwSFlzAAALEgAACxIB0t1+/AAAADl0RVh0U29mdHdhcmUAbWF0cGxvdGxpYiB2ZXJzaW9uIDIuMi4yLCBodHRwOi8vbWF0cGxvdGxpYi5vcmcvhp/UCwAAFDVJREFUeJzt3X+QnVd93/H3B2HKJFAjoiWlstYyU5HBdcCmOzIZd4KZgCzc1GqnJJEIYBhTzbiYtiTN1DQzNiNPZihMmxmKG6MUjUNbbJIQyCYRMUqAOg2ISgZjsIlBKC5exFQKMg6pianMt3/cR+R6vav77O6zP+4+79fMHd3nnPPc+z3ane+ee57znJuqQpLUH09b7QAkSSvLxC9JPWPil6SeMfFLUs+Y+CWpZ0z8ktQzJn5J6hkTvyT1jIlfknrm6asdwFw2bdpUW7duXe0wJGls3HPPPX9RVRNt2q7JxL9161aOHj262mFI0thI8r/btnWqR5J6xsQvST1j4peknjHxS1LPmPglqWdGJv4kW5J8MsmXk9yf5F/N0SZJ3pPkWJL7krx0qO7aJF9tHtd23QFJ0sK0Wc55BvjFqvpckmcD9yQ5VFUPDLV5NbCteVwO/BpweZLnAjcDU0A1505X1SOd9kKS1NrIEX9VfbOqPtc8/w7wZWDzrGa7gA/UwGHgOUmeD1wFHKqq002yPwTs7LQHkqQFWdAcf5KtwGXAZ2dVbQYeHjqeacrmK5ckrZLWd+4meRbwYeBfV9Vfzq6e45Q6R/lcr78X2AswOTnZNqzFe8f5s44fXf73lKQ1oNWIP8l5DJL+f6+q35mjyQywZej4AuDEOcqfoqr2V9VUVU1NTLTabmK0d5z/Nw9JEtBuVU+A9wNfrqr/OE+zaeANzeqelwGPVtU3gbuAHUk2JtkI7GjKJEmrpM1UzxXA64EvJrm3Kft3wCRAVd0GHASuBo4BjwFvaupOJ7kFONKct6+qTncXviRpoUYm/qr6n8w9Vz/cpoC3zFN3ADiwqOgkaQxtvfEPfvD8oXf+o1WMZG5rcltmSVrPVvsPg1s2SFLPmPglqWdM/JLUMyZ+SeoZE78k9YyJX5J6xsQvST3jOn5JWoTVXou/FI74JalnTPyS1DMmfknqGef4JfXS8Bw9jN88/VKY+Ocz/OUtfjuX1DvjfPF2FKd6JKlnHPEvlp8IJI0pR/yS1DMjR/xJDgA/DZysqkvmqP8l4OeHXu9FwETztYsPAd8BngDOVNVUV4FLkhanzYj/dmDnfJVV9e6qurSqLgXeDvyPWd+r+4qm3qQvSWvAyMRfVXcDbb8gfQ9wx5IikiQtq87m+JP8EINPBh8eKi7g40nuSbK3q/eSJC1el6t6/jHwp7Omea6oqhNJngccSvJnzSeIp2j+MOwFmJyc7DCsVTC84gcWvurHFUOSllGXiX83s6Z5qupE8+/JJB8BtgNzJv6q2g/sB5iamqoO45K0Tq3nm6yWUydTPUnOB14O/O5Q2Q8nefbZ58AO4EtdvJ8kafHaLOe8A7gS2JRkBrgZOA+gqm5rmv1T4ONV9X+HTv1R4CNJzr7PB6vqD7sLXZLOzU8EcxuZ+KtqT4s2tzNY9jlcdhx4yWIDW9ecw5e0irxzV5J6xsQvST1j4peknjHxS1LPmPglqWdM/JLUMyZ+SeoZE78k9YxfvShpTfPu2+6Z+MeNd/1KWiIT/3rjHwZJIzjHL0k9Y+KXpJ4x8UtSz5j4JalnTPyS1DOu6pG0rFyHv/aMHPEnOZDkZJI5vy83yZVJHk1yb/O4aahuZ5IHkxxLcmOXgUuSFqfNVM/twM4Rbf6kqi5tHvsAkmwAbgVeDVwM7Ely8VKClSQt3cjEX1V3A6cX8drbgWNVdbyqvgfcCexaxOtIkjrU1Rz/TyT5AnAC+DdVdT+wGXh4qM0McPl8L5BkL7AXYHJysqOw9BTe2as1xmsAK6+LVT2fAy6sqpcA/wn4aFOeOdrWfC9SVfuraqqqpiYmJjoIS5I0lyUn/qr6y6r6q+b5QeC8JJsYjPC3DDW9gMEnAknSKlryVE+SvwP8n6qqJNsZ/DH5FvBtYFuSi4BvALuB1y71/bSMnAaSemFk4k9yB3AlsCnJDHAzcB5AVd0GvAa4PskZ4LvA7qoq4EySG4C7gA3AgWbuX5K0ikYm/qraM6L+vcB756k7CBxcXGiSpOXglg2S1DNu2SBpyVySOV5M/GrPi7/SumDilzSSI/r1xTl+SeoZE78k9YyJX5J6xsQvST1j4peknnFVjyRX7fSMI35J6hlH/FoZ3vwlrRkmfqknnM7RWSZ+dcdRvTQWnOOXpJ4x8UtSz5j4Jaln2nz14gHgp4GTVXXJHPU/D/zb5vCvgOur6gtN3UPAd4AngDNVNdVR3FpvvD4grZg2I/7bgZ3nqP9z4OVV9WLgFmD/rPpXVNWlJn1JWhvafOfu3Um2nqP+00OHh4ELlh6WJGm5dD3Hfx3wsaHjAj6e5J4ke891YpK9SY4mOXrq1KmOw5IkndXZOv4kr2CQ+P/hUPEVVXUiyfOAQ0n+rKrunuv8qtpPM000NTVVXcUlSXqyTkb8SV4M/BdgV1V962x5VZ1o/j0JfATY3sX7SZIWb8kj/iSTwO8Ar6+qrwyV/zDwtKr6TvN8B7Bvqe+nnnLVj1suqDNtlnPeAVwJbEoyA9wMnAdQVbcBNwE/AvznJPA3yzZ/FPhIU/Z04INV9YfL0AdJ+IdB7bVZ1bNnRP2bgTfPUX4ceMniQ5MkLQfv3JWknnF3To0/5/+lBTHxS2uI8/RaCU71SFLPOOKXVpAjeq0FJn6tf14DkJ7EqR5J6hkTvyT1jIlfknrGxC9JPWPil6SeMfFLUs+4nFNyuad6xsQvdcgbtDQOnOqRpJ5xxC8tkKN6jTtH/JLUM60Sf5IDSU4m+dI89UnyniTHktyX5KVDddcm+WrzuLarwCVJi9N2qud24L3AB+apfzWwrXlcDvwacHmS5zL4jt4poIB7kkxX1SNLCVpaMa740TrUasRfVXcDp8/RZBfwgRo4DDwnyfOBq4BDVXW6SfaHgJ1LDVqStHhdzfFvBh4eOp5pyuYrf4oke5McTXL01KlTHYUlSZqtq8SfOcrqHOVPLazaX1VTVTU1MTHRUViSpNm6SvwzwJah4wuAE+colyStkq4S/zTwhmZ1z8uAR6vqm8BdwI4kG5NsBHY0ZZKkVdJqVU+SO4ArgU1JZhis1DkPoKpuAw4CVwPHgMeANzV1p5PcAhxpXmpfVZ3rIrEkaZm1SvxVtWdEfQFvmafuAHBg4aFJy2P4zluAh565hBdzuafGkHfuSlLPmPglqWfcpE2a5UmbsC1lGkhaoxzxS1LPmPglqWec6tG65HSNND8Tv7Rchpd6wlOXe7oUVKvEqR5J6hkTvyT1jFM90lrlVJCWiSN+SeoZE78k9YyJX5J6xjl+jSXX6UuL54hfknrGxC9JPdMq8SfZmeTBJMeS3DhH/a8mubd5fCXJt4fqnhiqm+4yeEnSwo2c40+yAbgVeBWDL08/kmS6qh4426aq3jbU/q3AZUMv8d2qurS7kCW5xl9L0WbEvx04VlXHq+p7wJ3ArnO03wPc0UVwkqTutVnVsxl4eOh4Brh8roZJLgQuAj4xVPzMJEeBM8A7q+qji4xVPePKHWl5tEn8maOs5mm7G/jtqnpiqGyyqk4keQHwiSRfrKqvPeVNkr3AXoDJyckWYUmSFqPNVM8MsGXo+ALgxDxtdzNrmqeqTjT/Hgc+xZPn/4fb7a+qqaqampiYaBGWJGkx2oz4jwDbklwEfINBcn/t7EZJfgzYCHxmqGwj8FhVPZ5kE3AF8K4uAtf4cypHWh0jE39VnUlyA3AXsAE4UFX3J9kHHK2qs0s09wB3VtXwNNCLgPcl+T6DTxfvHF4NJElaea22bKiqg8DBWWU3zTp+xxznfRr48SXEJ0nqmHv1SOuR6/x1Dm7ZIEk944hf6iM/EfSaiV/Sk/lHYd1zqkeSesYRv5aN6/SltckRvyT1jCN+LYmjemn8OOKXpJ4x8UtSz5j4JalnTPyS1DMmfknqGVf16JxctSOtP474JalnTPyS1DNO9UhamFGbuLnJ25rXasSfZGeSB5McS3LjHPVvTHIqyb3N481Dddcm+WrzuLbL4CVJCzdyxJ9kA3Ar8CpgBjiSZHqO7879UFXdMOvc5wI3A1NAAfc05z7SSfSSpAVrM+LfDhyrquNV9T3gTmBXy9e/CjhUVaebZH8I2Lm4UCVJXWgzx78ZeHjoeAa4fI52/yzJTwJfAd5WVQ/Pc+7mRcaqRTrXkkyXa0r902bEnznKatbx7wFbq+rFwB8Bv7GAcwcNk71JjiY5eurUqRZhSZIWo03inwG2DB1fAJwYblBV36qqx5vDXwf+Qdtzh15jf1VNVdXUxMREm9glSYvQJvEfAbYluSjJM4DdwPRwgyTPHzq8Bvhy8/wuYEeSjUk2AjuaMknSKhk5x19VZ5LcwCBhbwAOVNX9SfYBR6tqGviXSa4BzgCngTc2555OcguDPx4A+6rq9DL0Q5LUUqsbuKrqIHBwVtlNQ8/fDrx9nnMPAAeWEKMkqUNu2SBJPeOWDeuASzIlLYSJX9LKcR+fNcHEL2l8+IejEyZ+SWuHiX1FeHFXknrGxC9JPWPil6SeMfFLUs+Y+CWpZ1zVMwa8QUtSl0z8a4TJXdJKcapHknrGEb+k9cGbv1pzxC9JPWPil6SeMfFLUs+0SvxJdiZ5MMmxJDfOUf8LSR5Icl+SP05y4VDdE0nubR7Ts8+VJK2skRd3k2wAbgVeBcwAR5JMV9UDQ80+D0xV1WNJrgfeBfxcU/fdqrq047glSYvUZlXPduBYVR0HSHInsAv4QeKvqk8OtT8MvK7LINcD1+lLWivaTPVsBh4eOp5pyuZzHfCxoeNnJjma5HCSf7KIGCVJHWoz4s8cZTVnw+R1wBTw8qHiyao6keQFwCeSfLGqvjbHuXuBvQCTk5MtwpKkBXCd/w+0GfHPAFuGji8ATsxulOSVwC8D11TV42fLq+pE8+9x4FPAZXO9SVXtr6qpqpqamJho3QFJ0sK0GfEfAbYluQj4BrAbeO1wgySXAe8DdlbVyaHyjcBjVfV4kk3AFQwu/ErS2tKjTwQjE39VnUlyA3AXsAE4UFX3J9kHHK2qaeDdwLOA30oC8PWqugZ4EfC+JN9n8OninbNWA60bXryVNC5a7dVTVQeBg7PKbhp6/sp5zvs08ONLCVCS1C3v3JWknjHxS1LPmPglqWfcj38BvIAraT0w8UvSKOtsqadTPZLUMyZ+SeoZp3okaanGbCrIxD/Ei7eS+sCpHknqGRO/JPWMiV+SeqZXc/zO4UtSzxK/JK244RU/sCZW/TjVI0k9Y+KXpJ4x8UtSz7RK/El2JnkwybEkN85R/7eSfKip/2ySrUN1b2/KH0xyVXehS5IWY+TF3SQbgFuBVwEzwJEk07O+O/c64JGq+ntJdgP/Hvi5JBcz+HL2vw/8XeCPkrywqp7ouiNnuXJHks6tzYh/O3Csqo5X1feAO4Fds9rsAn6jef7bwE9l8K3ru4A7q+rxqvpz4FjzepIkGKz6OftYIW0S/2bg4aHjmaZszjZVdQZ4FPiRludKklZQqurcDZKfAa6qqjc3x68HtlfVW4fa3N+0mWmOv8ZgZL8P+ExV/bem/P3Awar68BzvsxfY2xz+GPDgIvqzCfiLRZw3zuxzf/Sx3/a5vQuraqJNwzY3cM0AW4aOLwBOzNNmJsnTgfOB0y3PBaCq9gP72wQ9nyRHq2pqKa8xbuxzf/Sx3/Z5ebSZ6jkCbEtyUZJnMLhYOz2rzTRwbfP8NcAnavBRYhrY3az6uQjYBvyvbkKXJC3GyBF/VZ1JcgNwF7ABOFBV9yfZBxytqmng/cB/TXKMwUh/d3Pu/Ul+E3gAOAO8ZTlX9EiSRmu1V09VHQQOziq7aej5XwM/M8+5vwL8yhJiXIglTRWNKfvcH33st31eBiMv7kqS1he3bJCknhnLxL+ULSTGVYs+/0KSB5Lcl+SPk1y4GnF2aVSfh9q9JkklGfvVH236nORnm5/1/Uk+uNIxdq3F7/Zkkk8m+Xzz+331asTZpSQHkpxM8qV56pPkPc3/yX1JXtppAFU1Vg8GF5i/BrwAeAbwBeDiWW3+BXBb83w38KHVjnsF+vwK4Iea59f3oc9Nu2cDdwOHganVjnsFfs7bgM8DG5vj56123CvQ5/3A9c3zi4GHVjvuDvr9k8BLgS/NU3818DEgwMuAz3b5/uM44l/KFhLjamSfq+qTVfVYc3iYwT0T46zNzxngFuBdwF+vZHDLpE2f/zlwa1U9AlBVJ1c4xq616XMBf7t5fj7z3As0TqrqbgYrIOezC/hADRwGnpPk+V29/zgm/qVsITGuFrr1xXUMRgvjbGSfk1wGbKmq31/JwJZRm5/zC4EXJvnTJIeT7Fyx6JZHmz6/A3hdkhkGqwvfyvq3rNvdjONXL841cp+9NKlNm3HSuj9JXgdMAS9f1oiW3zn7nORpwK8Cb1ypgFZAm5/z0xlM91zJ4FPdnyS5pKq+vcyxLZc2fd4D3F5V/yHJTzC4Z+iSqvr+8oe3apY1h43jiH8hW0gwawuJcdVq64skrwR+Gbimqh5fodiWy6g+Pxu4BPhUkocYzINOj/kF3ra/279bVf+vBjvePsjgD8G4atPn64DfBKiqzwDPZLCfzXrWerubxRjHxL+ULSTG1cg+N9Me72OQ9Md93hdG9LmqHq2qTVW1taq2MriucU1VHV2dcDvR5nf7owwu5JNkE4Opn+MrGmW32vT568BPASR5EYPEf2pFo1x508AbmtU9LwMerapvdvXiYzfVU0vYQmJctezzu4FnAb/VXMf+elVds2pBL1HLPq8rLft8F7AjyQPAE8AvVdW3Vi/qpWnZ518Efj3J2xhMd7xxzAdyJLmDwXTdpubaxc3AeQBVdRuDaxlXM/gOk8eAN3X6/mP+/ydJWqBxnOqRJC2BiV+SesbEL0k9Y+KXpJ4x8UtSz5j4JalnTPyS1DMmfknqmf8PtRC3VLsa/r4AAAAASUVORK5CYII=\n",
      "text/plain": [
       "<Figure size 432x288 with 1 Axes>"
      ]
     },
     "metadata": {},
     "output_type": "display_data"
    }
   ],
   "source": [
    "# plot check\n",
    "count, bins, ignored = plt.hist([x_y1,x_y0], 40, density=True)\n",
    "# plt.plot(bins, np.ones_like(bins), linewidth=2)\n",
    "plt.show()"
   ]
  },
  {
   "cell_type": "code",
   "execution_count": 2,
   "metadata": {},
   "outputs": [],
   "source": [
    "# function definition\n",
    "def create_data(N):\n",
    "    y = np.random.randint(2, size=N)\n",
    "    x = np.array([])\n",
    "    # array benchmark of p(x|y=0)\n",
    "    #x_y0 = np.array([])\n",
    "    # array benchmark of p(x|y=1)\n",
    "    #x_y1 = np.array([])\n",
    "    # get the features x\n",
    "    for k in range(N):\n",
    "        u = np.random.uniform(0,1,1)\n",
    "        if y[k]==0:\n",
    "           #all_primes = np.append(all_primes,[n])\n",
    "            x = np.append(x,[1 - np.sqrt(1-u)]) \n",
    "            #x_y0 = np.append(x_y0,[1 - np.sqrt(1-u)]) \n",
    "        else:\n",
    "            x = np.append(x,[np.sqrt(u)])\n",
    "            #x_y1 = np.append(x_y1,[np.sqrt(u)])\n",
    "    return x, y #, x_y0, x_y1\n",
    "\n"
   ]
  },
  {
   "cell_type": "code",
   "execution_count": 3,
   "metadata": {},
   "outputs": [
    {
     "data": {
      "image/png": "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\n",
      "text/plain": [
       "<Figure size 432x288 with 1 Axes>"
      ]
     },
     "metadata": {},
     "output_type": "display_data"
    }
   ],
   "source": [
    "# function check\n",
    "N=200\n",
    "x, y = create_data(N)\n",
    "# check the distribution of p(x|y=0)\n",
    "# plot check\n",
    "count, bins, ignored = plt.hist(x, 20, density=True)\n",
    "# plt.plot(bins, np.ones_like(bins), linewidth=2)\n",
    "plt.show()"
   ]
  },
  {
   "cell_type": "markdown",
   "metadata": {},
   "source": [
    "Exercise 1.3"
   ]
  },
  {
   "cell_type": "code",
   "execution_count": 4,
   "metadata": {},
   "outputs": [
    {
     "data": {
      "image/png": "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\n",
      "text/plain": [
       "<Figure size 432x288 with 1 Axes>"
      ]
     },
     "metadata": {},
     "output_type": "display_data"
    },
    {
     "name": "stdout",
     "output_type": "stream",
     "text": [
      "[0 1 0 ... 1 0 1]\n"
     ]
    }
   ],
   "source": [
    "# function that always gives the  correct data set\n",
    "def rejection_sampling_data(N):\n",
    "    x, y = create_data(N)\n",
    "    for k in range(N-1):\n",
    "        while y[k]==y[k+1]:\n",
    "            a, b = create_data(1)\n",
    "            x[k+1] = a\n",
    "            y[k+1] = b\n",
    "    return x, y\n",
    "# check\n",
    "x, y = rejection_sampling_data(10000)\n",
    "# plot check\n",
    "count, bins, ignored = plt.hist(x, 40, density=True)\n",
    "# plt.plot(bins, np.ones_like(bins), linewidth=2)\n",
    "plt.show()\n",
    "print(y)"
   ]
  },
  {
   "cell_type": "code",
   "execution_count": 62,
=======
   "execution_count": 25,
>>>>>>> Carlotombo-patch-1
   "metadata": {},
   "outputs": [
    {
     "data": {
      "image/png": "iVBORw0KGgoAAAANSUhEUgAAAX4AAAD8CAYAAABw1c+bAAAABHNCSVQICAgIfAhkiAAAAAlwSFlz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\n1DH/H8Q3jHeOKIWBAAAAAElFTkSuQmCC\n",
      "text/plain": [
       "<Figure size 432x288 with 1 Axes>"
      ]
     },
     "metadata": {},
     "output_type": "display_data"
    }
   ],
   "source": [
    "# plot check\n",
    "count, bins, ignored = plt.hist([x_y1,x_y0], 40, density=True)\n",
    "# plt.plot(bins, np.ones_like(bins), linewidth=2)\n",
    "plt.show()"
   ]
  },
  {
   "cell_type": "code",
   "execution_count": 46,
   "metadata": {
    "scrolled": true
   },
   "outputs": [],
   "source": [
<<<<<<< HEAD
    "# rule A\n",
    "def f_A(x):\n",
    "    # predictions\n",
    "    f = np.array([])\n",
    "    # Define the bisector\n",
    "    t = np.sum(x)/len(x)\n",
    "    for k in range(len(x)):\n",
    "        if x[k] < t:\n",
    "            f = np.append(f,[0])\n",
    "        else:\n",
    "            f = np.append(f,[1])\n",
    "    return f\n",
    "\n",
    "# rule B\n",
    "def f_B(x):\n",
    "    # predictions\n",
    "    f = np.array([])\n",
    "    # Define the bisector\n",
    "    t = np.sum(x)/len(x)\n",
    "    for k in range(len(x)):\n",
    "        if x[k] < t:\n",
    "            f = np.append(f,[1])\n",
    "        else:\n",
    "            f = np.append(f,[0])\n",
    "    return f\n",
=======
    "## CLASSIFICATION BY THRESHOLDING\n",
    "# M vector\n",
    "M = np.array([10, 100, 1000, 10000])\n",
    "# Repetition per M(columns)\n",
    "C = 10\n",
    "# Rows\n",
    "R = 4\n",
    "# Thresholding vector\n",
    "x_t = np.array([0.2, 0.5, 0.6])\n",
    "# Theoretical error vector\n",
    "err_theo = 1 / 4 + np.power(x_t - 1/2, 2)\n",
    "# Experimental error\n",
    "err_exp = np.zeros((3*R,C))\n",
    "# Cycle over the thresholds\n",
    "for t in range(3):\n",
    "    # Cycle over the M\n",
    "    for m in range(4):\n",
    "        #Cycle over the 10 repetition at fixed M\n",
    "        for c in range(C):\n",
    "            y = np.random.randint(2, size=M[m])\n",
    "            # define x\n",
    "            x = np.array([])\n",
    "            # y_hat vector\n",
    "            y_hat = np.array([])\n",
    "            # Count variable for error\n",
    "            count = 0\n",
    "            # get the featrues x\n",
    "            for k in range(M[m]):\n",
    "                u = np.random.uniform(0,1,1)\n",
    "                if y[k]==0:\n",
    "                    x = np.append(x,[1 - np.sqrt(1-u)])  \n",
    "                else:\n",
    "                    x = np.append(x,[np.sqrt(u)]) \n",
    "                # Use of the threshold\n",
    "                if x[k] <= x_t[t]:\n",
    "                    y_hat = np.append(y_hat,[0])\n",
    "                    if y_hat[k] != y[k]:\n",
    "                        count = count + 1\n",
    "                else:\n",
    "                    y_hat = np.append(y_hat,[1])\n",
    "                    if y_hat[k] != y[k]:\n",
    "                        count = count + 1\n",
    "            err_exp.itemset(((4*t+m),c), (count / M[m]))\n",
    "            #err_exp=count/N\n",
    "#print(\"\\n\")\n",
    "#print(err_exp, err_theo)\n",
    "\n",
>>>>>>> Carlotombo-patch-1
    "\n"
   ]
  },
  {
   "cell_type": "code",
<<<<<<< HEAD
   "execution_count": 6,
=======
   "execution_count": 54,
>>>>>>> Carlotombo-patch-1
   "metadata": {},
   "outputs": [
    {
     "name": "stdout",
     "output_type": "stream",
     "text": [
<<<<<<< HEAD
      "[ 0.  0.  1. ... -1.  1. -1.]\n",
      "[0. 1. 1. ... 0. 1. 0.]\n",
      "[0 1 0 ... 1 0 1]\n"
=======
      "\n",
      "\n",
      "[[ 0.34     0.325    0.3445   0.33893]\n",
      " [ 0.28     0.272    0.2485   0.24914]\n",
      " [ 0.23     0.259    0.2518   0.25775]]\n",
      "[[ 0.1496663   0.0456618   0.00922226  0.00345197]\n",
      " [ 0.09797959  0.04190465  0.01285496  0.00321783]\n",
      " [ 0.11        0.04592385  0.01396997  0.00524524]]\n",
      "3.27771342185\n",
      "43.3567718963\n",
      "31.6227766017\n"
>>>>>>> Carlotombo-patch-1
     ]
    }
   ],
   "source": [
<<<<<<< HEAD
    "# test functions\n",
    "print(f_A(x)-y)\n",
    "print(f_A(x))\n",
    "print(y)"
=======
    "# Mean values\n",
    "avg = np.zeros((3,4))\n",
    "err_avg = np.zeros((3,4))\n",
    "i, j = 0, 0\n",
    "for r in range(3*R):\n",
    "    avg.itemset((i,j), np.mean(err_exp[r,:]))\n",
    "    err_avg.itemset((i,j), np.std(err_exp[r,:]))\n",
    "    j = j + 1\n",
    "    if j==4:\n",
    "        j = 0\n",
    "        i = i + 1\n",
    "print(\"\\n\")\n",
    "print(avg)\n",
    "print(err_avg)\n"
>>>>>>> Carlotombo-patch-1
   ]
  },
  {
   "cell_type": "code",
<<<<<<< HEAD
   "execution_count": 7,
   "metadata": {},
   "outputs": [
    {
     "name": "stdout",
     "output_type": "stream",
     "text": [
      "2517\n",
      "[0 1 0 ... 1 0 1]\n"
     ]
    }
   ],
   "source": [
    "# Check if the prediction is correct\n",
    "def error_function(y, f):\n",
    "    err=0\n",
    "    diff = y - f\n",
    "    for k in range(len(y)):\n",
    "        if int(abs(diff[k])) == 0:\n",
    "            err += 0\n",
    "        else:\n",
    "            err += 1\n",
    "    return err\n",
    "#test\n",
    "print(error_function(y,f_A(x)))\n",
    "print(y)"
   ]
  },
  {
   "cell_type": "code",
   "execution_count": 91,
   "metadata": {},
   "outputs": [
    {
     "name": "stdout",
     "output_type": "stream",
     "text": [
      "0.334525\n"
     ]
    }
   ],
   "source": [
    "## error rate of 100 training sets\n",
    "# size of the training set\n",
    "N = 2\n",
    "# number of training set\n",
    "n_TS = 100000\n",
    "#total error\n",
    "tot_error = 0\n",
    "error_A =0\n",
    "error_B = 0\n",
    "count =0\n",
    "x, y = rejection_sampling_data(N)\n",
    "for k in range(n_TS):\n",
    "    x, y = rejection_sampling_data(N)\n",
    "    f=0\n",
    "    #print(x)\n",
    "    #print(y)\n",
    "    for j in range(N-1):\n",
    "        if x[j]<x[j+1]:\n",
    "            f=f_A(x)\n",
    "        #print(f_A(x))\n",
    "        #else:\n",
    "        #    f=f_B(x)\n",
    "            #print(f_B(x))\n",
    "    tot_error += error_function(y,f)\n",
    "    \n",
    "print(tot_error/(N*n_TS))"
   ]
  },
  {
   "cell_type": "code",
   "execution_count": 47,
=======
   "execution_count": 81,
>>>>>>> Carlotombo-patch-1
   "metadata": {},
   "outputs": [
    {
     "data": {
<<<<<<< HEAD
      "text/plain": [
       "3"
      ]
     },
     "execution_count": 47,
     "metadata": {},
     "output_type": "execute_result"
    }
   ],
   "source": [
    "len([1, 3, 4])"
=======
      "text/html": [
       "<table><tr><td></td><td>M = 10</td><td>M = 100</td><td>M = 1000</td><td>M = 10000</td></tr><tr><td>$x_t$=0.2</td><td>0.3 $\\pm$ 0.1</td><td>0.33 $\\pm$ 0.05</td><td>0.344 $\\pm$ 0.009</td><td>0.339 $\\pm$ 0.003</td></tr><tr><td>$x_t$=0.5</td><td>0.3 $\\pm$ 0.1</td><td>0.27 $\\pm$ 0.04</td><td>0.25 $\\pm$ 0.01</td><td>0.249 $\\pm$ 0.003</td></tr><tr><td>$x_t$=0.6</td><td>0.2 $\\pm$ 0.1</td><td>0.26 $\\pm$ 0.05</td><td>0.25 $\\pm$ 0.01</td><td>0.258 $\\pm$ 0.005</td></tr></table>"
      ],
      "text/plain": [
       "<IPython.core.display.HTML object>"
      ]
     },
     "metadata": {},
     "output_type": "display_data"
    }
   ],
   "source": [
    " from IPython.display import HTML, display\n",
    "\n",
    " data = [['','M = 10','M = 100','M = 1000','M = 10000'],\n",
    "         ['$x_t$=0.2',\"%.1f $\\pm$ %.1f\" % (avg[0,0], err_avg[0,0]),\"%.2f $\\pm$ %.2f\" % (avg[0,1], err_avg[0,1]),\"%.3f $\\pm$ %.3f\" % (avg[0,2], err_avg[0,2]),\"%.3f $\\pm$ %.3f\" % (avg[0,3], err_avg[0,3])],\n",
    "         ['$x_t$=0.5',\"%.1f $\\pm$ %.1f\" % (avg[1,0], err_avg[1,0]),\"%.2f $\\pm$ %.2f\" % (avg[1,1], err_avg[1,1]),\"%.2f $\\pm$ %.2f\" % (avg[1,2], err_avg[1,2]),\"%.3f $\\pm$ %.3f\" % (avg[1,3], err_avg[1,3])],\n",
    "         ['$x_t$=0.6',\"%.1f $\\pm$ %.1f\" % (avg[2,0], err_avg[2,0]),\"%.2f $\\pm$ %.2f\" % (avg[2,1], err_avg[2,1]),\"%.2f $\\pm$ %.2f\" % (avg[2,2], err_avg[2,2]),\"%.3f $\\pm$ %.3f\" % (avg[2,3], err_avg[2,3])],\n",
    "         ]\n",
    "\n",
    " display(HTML(\n",
    "    '<table><tr>{}</tr></table>'.format(\n",
    "        '</tr><tr>'.join(\n",
    "            '<td>{}</td>'.format('</td><td>'.join(str(_) for _ in row)) for row in data)\n",
    "        )\n",
    " ))"
>>>>>>> Carlotombo-patch-1
   ]
  }
 ],
 "metadata": {
  "kernelspec": {
   "display_name": "Python 3",
   "language": "python",
   "name": "python3"
  },
  "language_info": {
   "codemirror_mode": {
    "name": "ipython",
    "version": 3
   },
   "file_extension": ".py",
   "mimetype": "text/x-python",
   "name": "python",
   "nbconvert_exporter": "python",
   "pygments_lexer": "ipython3",
   "version": "3.6.3"
  }
 },
 "nbformat": 4,
 "nbformat_minor": 2
}
