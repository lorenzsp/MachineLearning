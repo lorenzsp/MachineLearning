{
 "cells": [
  {
   "cell_type": "markdown",
   "metadata": {},
   "source": [
    "## Monte Carlo Exercise 1 \n",
    "# Lorenzo Speri and Carlo Tombolini\n"
   ]
  },
  {
   "cell_type": "markdown",
   "metadata": {},
   "source": [
    "the feature variable $X \\in [0,1]$ is a real-valued and 1-dimensional, and the response $Y \\in \\{0, 1\\}$ \n",
    "$$p(Y=0) = p(Y=1) = 1/2$$\n",
    "$$p(X = x| Y = 0) = 2 - 2x$$\n",
    "$$p(X = x| Y = 1) = 2x$$"
   ]
  },
  {
   "cell_type": "markdown",
   "metadata": {},
   "source": [
    "Applying the Bayes formula\n",
    "$$\n",
    "p(Y|X) = \\frac{p(X|Y) p(Y)}{p(X)}\n",
    "$$\n",
    "to our likelihoods, we obtain the feature density\n",
    "$$p(X) = p(X|Y=0)p(Y=0) + p(X|Y=1)p(Y=1) = 1$$\n",
    "So the posteriors are\n",
    "\\begin{eqnarray}\n",
    "p(Y=0|X) = 1-x\\\\\n",
    "p(Y=1|X) = x \\\\\n",
    "\\end{eqnarray}"
   ]
  },
  {
   "cell_type": "markdown",
   "metadata": {},
   "source": [
    "In order to find the data set we apply the following algorithm:\n",
    "<br>\n",
    "sample $Y \\in \\{0,1\\}$  \n",
    "<br>\n",
    "find the features $x$ using the inverse transform sampling:\n",
    "$$CP(x|Y) = \\int_0 ^{x'} P(X=x'|Y) dx'$$\n",
    "where CP is the cumulative distribution. \n",
    "If $Y = 0$\n",
    "$$\n",
    "CP(x|Y=0)= \\int_0 ^{x'} 2-2x' dx' = 2(x-\\frac{x^2}{2})\n",
    "$$\n",
    "If $Y = 1$\n",
    "$$\n",
    "CP(x|Y=1)= \\int_0 ^{x'} 2x' dx' = x^2)\\\\\n",
    "$$\n",
    "So we sample $u$ from a uniform distribution $[0,1)$ in order to obtain $x$ according to the different cases $Y =0$ or $1$\n",
    "$$\n",
    "u \\equiv CP(x|Y)\n",
    "$$\n",
    "For $Y = 0$ the correspondent features will be $x = 1- \\sqrt{1-u}$\n",
    "<br>\n",
    "For $Y=1$ the correspondent features will be $x=\\sqrt{u}$\n"
   ]
  },
  {
   "cell_type": "code",
   "execution_count": 1,
   "metadata": {
    "collapsed": true
   },
   "outputs": [],
   "source": [
    "# importing the libraries\n",
    "import numpy as np\n",
    "import sklearn\n",
    "import matplotlib.pyplot as plt\n",
    "# define the size of the data set\n",
    "N = 10000"
   ]
  },
  {
   "cell_type": "code",
   "execution_count": 2,
   "metadata": {
    "collapsed": true
   },
   "outputs": [],
   "source": [
    "y = np.random.randint(2, size=N)\n",
    "#print(y)"
   ]
  },
  {
   "cell_type": "code",
   "execution_count": 3,
   "metadata": {
    "scrolled": true
   },
   "outputs": [
    {
     "data": {
      "image/png": "[encoded data removed]",
      "text/plain": [
       "<Figure size 432x288 with 1 Axes>"
      ]
     },
     "metadata": {},
     "output_type": "display_data"
    }
   ],
   "source": [
    "# plot check\n",
    "count, bins, ignored = plt.hist(y, 15, density=True)\n",
    "#plt.plot(bins, np.ones_like(bins), linewidth=2)\n",
    "plt.show()"
   ]
  },
  {
   "cell_type": "code",
   "execution_count": 3,
   "metadata": {
    "collapsed": true
   },
   "outputs": [],
   "source": [
    "# generate uniform distribution of u\n",
    "#u = np.random.uniform(0,1,1)\n",
    "# define x\n",
    "x = np.array([])\n",
    "# array benchmark of p(x|y=0)\n",
    "x_y0 = np.array([])\n",
    "# array benchmark of p(x|y=1)\n",
    "x_y1 = np.array([])\n",
    "\n",
    "# get the featrues x\n",
    "for k in range(N):\n",
    "    u = np.random.uniform(0,1,1)\n",
    "    if y[k]==0:\n",
    "        #all_primes = np.append(all_primes,[n])\n",
    "        x = np.append(x,[1 - np.sqrt(1-u)]) \n",
    "        x_y0 = np.append(x_y0,[1 - np.sqrt(1-u)]) \n",
    "    else:\n",
    "        x = np.append(x,[np.sqrt(u)])\n",
    "        x_y1 = np.append(x_y1,[np.sqrt(u)])\n"
   ]
  },
  {
   "cell_type": "code",
   "execution_count": 4,
   "metadata": {},
   "outputs": [
    {
     "data": {
      "image/png": "[encoded data removed]",
      "text/plain": [
       "<Figure size 432x288 with 1 Axes>"
      ]
     },
     "metadata": {},
     "output_type": "display_data"
    }
   ],
   "source": [
    "# check the distribution of p(x|y=0)\n",
    "# plot check\n",
    "count, bins, ignored = plt.hist(x_y0, 40, density=True)\n",
    "plt.plot([0, 1], [2, 0], 'r-', lw=2)\n",
    "# plt.plot(bins, np.ones_like(bins), linewidth=2)\n",
    "plt.show()"
   ]
  },
  {
   "cell_type": "code",
   "execution_count": 5,
   "metadata": {
    "scrolled": true
   },
   "outputs": [
    {
     "data": {
      "image/png": "[encoded data removed]",
      "text/plain": [
       "<Figure size 432x288 with 1 Axes>"
      ]
     },
     "metadata": {},
     "output_type": "display_data"
    }
   ],
   "source": [
    "# check the distribution of p(x|y=1)\n",
    "# plot check\n",
    "count, bins, ignored = plt.hist(x_y1, 40, density=True)\n",
    "plt.plot([0, 1], [0, 2], 'r-', lw=2)\n",
    "# plt.plot(bins, np.ones_like(bins), linewidth=2)\n",
    "plt.show()"
   ]
  },
  {
   "cell_type": "code",
   "execution_count": 25,
   "metadata": {},
   "outputs": [
    {
     "data": {
      "image/png": "[encoded data removed]",
      "text/plain": [
       "<Figure size 432x288 with 1 Axes>"
      ]
     },
     "metadata": {},
     "output_type": "display_data"
    }
   ],
   "source": [
    "# plot check\n",
    "count, bins, ignored = plt.hist([x_y1,x_y0], 40, density=True)\n",
    "# plt.plot(bins, np.ones_like(bins), linewidth=2)\n",
    "plt.show()"
   ]
  },
  {
   "cell_type": "code",
   "execution_count": 46,
   "metadata": {
    "scrolled": true
   },
   "outputs": [],
   "source": [
    "## CLASSIFICATION BY THRESHOLDING\n",
    "# M vector\n",
    "M = np.array([10, 100, 1000, 10000])\n",
    "# Repetition per M(columns)\n",
    "C = 10\n",
    "# Rows\n",
    "R = 4\n",
    "# Thresholding vector\n",
    "x_t = np.array([0.2, 0.5, 0.6])\n",
    "# Theoretical error vector\n",
    "err_theo = 1 / 4 + np.power(x_t - 1/2, 2)\n",
    "# Experimental error\n",
    "err_exp = np.zeros((3*R,C))\n",
    "# Cycle over the thresholds\n",
    "for t in range(3):\n",
    "    # Cycle over the M\n",
    "    for m in range(4):\n",
    "        #Cycle over the 10 repetition at fixed M\n",
    "        for c in range(C):\n",
    "            y = np.random.randint(2, size=M[m])\n",
    "            # define x\n",
    "            x = np.array([])\n",
    "            # y_hat vector\n",
    "            y_hat = np.array([])\n",
    "            # Count variable for error\n",
    "            count = 0\n",
    "            # get the featrues x\n",
    "            for k in range(M[m]):\n",
    "                u = np.random.uniform(0,1,1)\n",
    "                if y[k]==0:\n",
    "                    x = np.append(x,[1 - np.sqrt(1-u)])  \n",
    "                else:\n",
    "                    x = np.append(x,[np.sqrt(u)]) \n",
    "                # Use of the threshold\n",
    "                if x[k] <= x_t[t]:\n",
    "                    y_hat = np.append(y_hat,[0])\n",
    "                    if y_hat[k] != y[k]:\n",
    "                        count = count + 1\n",
    "                else:\n",
    "                    y_hat = np.append(y_hat,[1])\n",
    "                    if y_hat[k] != y[k]:\n",
    "                        count = count + 1\n",
    "            err_exp.itemset(((4*t+m),c), (count / M[m]))\n",
    "            #err_exp=count/N\n",
    "#print(\"\\n\")\n",
    "#print(err_exp, err_theo)\n",
    "\n",
    "\n"
   ]
  },
  {
   "cell_type": "code",
   "execution_count": 54,
   "metadata": {},
   "outputs": [
    {
     "name": "stdout",
     "output_type": "stream",
     "text": [
      "\n",
      "\n",
      "[[ 0.34     0.325    0.3445   0.33893]\n",
      " [ 0.28     0.272    0.2485   0.24914]\n",
      " [ 0.23     0.259    0.2518   0.25775]]\n",
      "[[ 0.1496663   0.0456618   0.00922226  0.00345197]\n",
      " [ 0.09797959  0.04190465  0.01285496  0.00321783]\n",
      " [ 0.11        0.04592385  0.01396997  0.00524524]]\n",
      "3.27771342185\n",
      "43.3567718963\n",
      "31.6227766017\n"
     ]
    }
   ],
   "source": [
    "# Mean values\n",
    "avg = np.zeros((3,4))\n",
    "err_avg = np.zeros((3,4))\n",
    "i, j = 0, 0\n",
    "for r in range(3*R):\n",
    "    avg.itemset((i,j), np.mean(err_exp[r,:]))\n",
    "    err_avg.itemset((i,j), np.std(err_exp[r,:]))\n",
    "    j = j + 1\n",
    "    if j==4:\n",
    "        j = 0\n",
    "        i = i + 1\n",
    "print(\"\\n\")\n",
    "print(avg)\n",
    "print(err_avg)\n"
   ]
  },
  {
   "cell_type": "code",
   "execution_count": 81,
   "metadata": {},
   "outputs": [
    {
     "data": {
      "text/html": [
       "<table><tr><td></td><td>M = 10</td><td>M = 100</td><td>M = 1000</td><td>M = 10000</td></tr><tr><td>$x_t$=0.2</td><td>0.3 $\\pm$ 0.1</td><td>0.33 $\\pm$ 0.05</td><td>0.344 $\\pm$ 0.009</td><td>0.339 $\\pm$ 0.003</td></tr><tr><td>$x_t$=0.5</td><td>0.3 $\\pm$ 0.1</td><td>0.27 $\\pm$ 0.04</td><td>0.25 $\\pm$ 0.01</td><td>0.249 $\\pm$ 0.003</td></tr><tr><td>$x_t$=0.6</td><td>0.2 $\\pm$ 0.1</td><td>0.26 $\\pm$ 0.05</td><td>0.25 $\\pm$ 0.01</td><td>0.258 $\\pm$ 0.005</td></tr></table>"
      ],
      "text/plain": [
       "<IPython.core.display.HTML object>"
      ]
     },
     "metadata": {},
     "output_type": "display_data"
    }
   ],
   "source": [
    " from IPython.display import HTML, display\n",
    "\n",
    " data = [['','M = 10','M = 100','M = 1000','M = 10000'],\n",
    "         ['$x_t$=0.2',\"%.1f $\\pm$ %.1f\" % (avg[0,0], err_avg[0,0]),\"%.2f $\\pm$ %.2f\" % (avg[0,1], err_avg[0,1]),\"%.3f $\\pm$ %.3f\" % (avg[0,2], err_avg[0,2]),\"%.3f $\\pm$ %.3f\" % (avg[0,3], err_avg[0,3])],\n",
    "         ['$x_t$=0.5',\"%.1f $\\pm$ %.1f\" % (avg[1,0], err_avg[1,0]),\"%.2f $\\pm$ %.2f\" % (avg[1,1], err_avg[1,1]),\"%.2f $\\pm$ %.2f\" % (avg[1,2], err_avg[1,2]),\"%.3f $\\pm$ %.3f\" % (avg[1,3], err_avg[1,3])],\n",
    "         ['$x_t$=0.6',\"%.1f $\\pm$ %.1f\" % (avg[2,0], err_avg[2,0]),\"%.2f $\\pm$ %.2f\" % (avg[2,1], err_avg[2,1]),\"%.2f $\\pm$ %.2f\" % (avg[2,2], err_avg[2,2]),\"%.3f $\\pm$ %.3f\" % (avg[2,3], err_avg[2,3])],\n",
    "         ]\n",
    "\n",
    " display(HTML(\n",
    "    '<table><tr>{}</tr></table>'.format(\n",
    "        '</tr><tr>'.join(\n",
    "            '<td>{}</td>'.format('</td><td>'.join(str(_) for _ in row)) for row in data)\n",
    "        )\n",
    " ))"
   ]
  }
 ],
 "metadata": {
  "kernelspec": {
   "display_name": "Python 3",
   "language": "python",
   "name": "python3"
  },
  "language_info": {
   "codemirror_mode": {
    "name": "ipython",
    "version": 3
   },
   "file_extension": ".py",
   "mimetype": "text/x-python",
   "name": "python",
   "nbconvert_exporter": "python",
   "pygments_lexer": "ipython3",
   "version": "3.6.3"
  }
 },
 "nbformat": 4,
 "nbformat_minor": 2
}
