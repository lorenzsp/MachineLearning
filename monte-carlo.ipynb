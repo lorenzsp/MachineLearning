{
 "cells": [
  {
   "cell_type": "code",
   "execution_count": null,
   "metadata": {},
   "outputs": [],
   "source": [
    "## Monte Carlo Exercise 1 \n",
    "# Lorenzo Speri and Carlo Tombolini\n",
    "\n",
    "\n",
    "# importing the libraries\n",
    "import numpy as np\n",
    "import sklearn\n",
    "import matplotlib.pyplot as plt"
   ]
  },
  {
   "cell_type": "markdown",
   "metadata": {},
   "source": [
    "the feature variable $X \\in [0,1]$ is a real-valued and 1-dimensional, and the response $Y \\in \\{0, 1\\}$ \n",
    "$$p(Y=0) = p(Y=1) = 1/2$$\n",
    "$$p(X = x| Y = 0) = 2 - 2x$$\n",
    "$$p(X = x| Y = 1) = 2x$$"
   ]
  },
  {
   "cell_type": "markdown",
   "metadata": {},
   "source": [
    "Applying the Bayes formula\n",
    "$$\n",
    "p(Y|X) = \\frac{p(X|Y) p(Y)}{p(X)}\n",
    "$$\n",
    "to our likelihoods, we obtain the feature density\n",
    "$$p(X) = p(X|Y=0)p(Y=0) + p(X|Y=1)p(Y=1) = 1$$\n",
    "So the posteriors are\n",
    "\\begin{eqnarray}\n",
    "p(Y=0|X) = 1-x\\\\\n",
    "p(Y=1|X) = x \\\\\n",
    "\\end{eqnarray}"
   ]
  },
  {
   "cell_type": "markdown",
   "metadata": {},
   "source": [
    "In order to find the data set we apply the following algorithm:\n",
    "<br>\n",
    "sample $Y \\in \\{0,1\\}$  \n",
    "<br>\n",
    "find the features $x$ using the inverse transform sampling:\n",
    "$$CP(x|Y) = \\int_0 ^{x'} P(X=x'|Y) dx'$$\n",
    "where CP is the cumulative distribution. \n",
    "If $Y = 0$\n",
    "$$\n",
    "CP(x|Y=0)= \\int_0 ^{x'} 2-2x' dx' = 2(x-\\frac{x^2}{2})\n",
    "$$\n",
    "If $Y = 1$\n",
    "$$\n",
    "CP(x|Y=1)= \\int_0 ^{x'} 2x' dx' = x^2)\\\\\n",
    "$$\n",
    "So we sample $u$ from a uniform distribution $[0,1)$ in order to obtain $x$ according to the different cases $Y =0$ or $1$\n",
    "$$\n",
    "u \\equiv CP(x|Y)\n",
    "$$\n",
    "For $Y = 0$ the correspondent features will be $x = 1- \\sqrt{1-u}$\n",
    "<br>\n",
    "For $Y=1$ the correspondent features will be $x=\\sqrt{u}$\n"
   ]
  },
  {
   "cell_type": "code",
   "execution_count": 49,
   "metadata": {},
   "outputs": [],
   "source": [
    "x = np.random.uniform(0,1,1000)"
   ]
  },
  {
   "cell_type": "code",
   "execution_count": 50,
   "metadata": {},
   "outputs": [
    {
     "data": {
      "image/png": "[encoded data removed]",
      "text/plain": [
       "<Figure size 432x288 with 1 Axes>"
      ]
     },
     "metadata": {
      "needs_background": "light"
     },
     "output_type": "display_data"
    }
   ],
   "source": [
    "count, bins, ignored = plt.hist(x, 15, density=True)\n",
    "plt.plot(bins, np.ones_like(bins), linewidth=2)\n",
    "plt.show()"
   ]
  },
  {
   "cell_type": "code",
   "execution_count": null,
   "metadata": {},
   "outputs": [],
   "source": []
  }
 ],
 "metadata": {
  "kernelspec": {
   "display_name": "Python 3",
   "language": "python",
   "name": "python3"
  },
  "language_info": {
   "codemirror_mode": {
    "name": "ipython",
    "version": 3
   },
   "file_extension": ".py",
   "mimetype": "text/x-python",
   "name": "python",
   "nbconvert_exporter": "python",
   "pygments_lexer": "ipython3",
   "version": "3.6.5"
  }
 },
 "nbformat": 4,
 "nbformat_minor": 2
}
