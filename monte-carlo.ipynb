{
 "cells": [
  {
   "cell_type": "markdown",
   "metadata": {},
   "source": [
    "## Monte Carlo Exercise 1 \n",
    "# Lorenzo Speri and Carlo Tombolini\n"
   ]
  },
  {
   "cell_type": "markdown",
   "metadata": {},
   "source": [
    "the feature variable $X \\in [0,1]$ is a real-valued and 1-dimensional, and the response $Y \\in \\{0, 1\\}$ \n",
    "$$p(Y=0) = p(Y=1) = 1/2$$\n",
    "$$p(X = x| Y = 0) = 2 - 2x$$\n",
    "$$p(X = x| Y = 1) = 2x$$"
   ]
  },
  {
   "cell_type": "markdown",
   "metadata": {},
   "source": [
    "Applying the Bayes formula\n",
    "$$\n",
    "p(Y|X) = \\frac{p(X|Y) p(Y)}{p(X)}\n",
    "$$\n",
    "to our likelihoods, we obtain the feature density\n",
    "$$p(X) = p(X|Y=0)p(Y=0) + p(X|Y=1)p(Y=1) = 1$$\n",
    "So the posteriors are\n",
    "\\begin{eqnarray}\n",
    "p(Y=0|X) = 1-x\\\\\n",
    "p(Y=1|X) = x \\\\\n",
    "\\end{eqnarray}"
   ]
  },
  {
   "cell_type": "markdown",
   "metadata": {},
   "source": [
    "In order to find the data set we apply the following algorithm:\n",
    "<br>\n",
    "sample $Y \\in \\{0,1\\}$  \n",
    "<br>\n",
    "find the features $x$ using the inverse transform sampling:\n",
    "$$CP(x|Y) = \\int_0 ^{x'} P(X=x'|Y) dx'$$\n",
    "where CP is the cumulative distribution. \n",
    "If $Y = 0$\n",
    "$$\n",
    "CP(x|Y=0)= \\int_0 ^{x'} 2-2x' dx' = 2(x-\\frac{x^2}{2})\n",
    "$$\n",
    "If $Y = 1$\n",
    "$$\n",
    "CP(x|Y=1)= \\int_0 ^{x'} 2x' dx' = x^2)\\\\\n",
    "$$\n",
    "So we sample $u$ from a uniform distribution $[0,1)$ in order to obtain $x$ according to the different cases $Y =0$ or $1$\n",
    "$$\n",
    "u \\equiv CP(x|Y)\n",
    "$$\n",
    "For $Y = 0$ the correspondent features will be $x = 1- \\sqrt{1-u}$\n",
    "<br>\n",
    "For $Y=1$ the correspondent features will be $x=\\sqrt{u}$\n"
   ]
  },
  {
   "cell_type": "code",
   "execution_count": 235,
   "metadata": {},
   "outputs": [],
   "source": [
    "# importing the libraries\n",
    "import numpy as np\n",
    "import sklearn\n",
    "import matplotlib.pyplot as plt\n",
    "# define the size of the data set\n",
    "N = 1000"
   ]
  },
  {
   "cell_type": "code",
   "execution_count": 236,
   "metadata": {},
   "outputs": [],
   "source": [
    "y = np.random.randint(2, size=N)\n",
    "#print(y)"
   ]
  },
  {
   "cell_type": "code",
   "execution_count": 237,
   "metadata": {
    "scrolled": true
   },
   "outputs": [
    {
     "data": {
      "image/png": "[encoded data removed]",
      "text/plain": [
       "<Figure size 432x288 with 1 Axes>"
      ]
     },
     "metadata": {},
     "output_type": "display_data"
    }
   ],
   "source": [
    "# plot check\n",
    "count, bins, ignored = plt.hist(y, 15, density=True)\n",
    "plt.plot(bins, np.ones_like(bins), linewidth=2)\n",
    "plt.show()"
   ]
  },
  {
   "cell_type": "code",
   "execution_count": 238,
   "metadata": {},
   "outputs": [],
   "source": [
    "# generate uniform distribution of u\n",
    "#u = np.random.uniform(0,1,1)\n",
    "# define x\n",
    "x = np.array([])\n",
    "# array benchmark of p(x|y=0)\n",
    "x_y0 = np.array([])\n",
    "# array benchmark of p(x|y=1)\n",
    "x_y1 = np.array([])\n",
    "\n",
    "# get the features x\n",
    "for k in range(N):\n",
    "    u = np.random.uniform(0,1,1)\n",
    "    if y[k]==0:\n",
    "        #all_primes = np.append(all_primes,[n])\n",
    "        x = np.append(x,[1 - np.sqrt(1-u)]) \n",
    "        x_y0 = np.append(x_y0,[1 - np.sqrt(1-u)]) \n",
    "    else:\n",
    "        x = np.append(x,[np.sqrt(u)])\n",
    "        x_y1 = np.append(x_y1,[np.sqrt(u)])\n"
   ]
  },
  {
   "cell_type": "code",
   "execution_count": 242,
   "metadata": {},
   "outputs": [
    {
     "data": {
      "image/png": "[encoded data removed]",
      "text/plain": [
       "<Figure size 432x288 with 1 Axes>"
      ]
     },
     "metadata": {},
     "output_type": "display_data"
    }
   ],
   "source": [
    "# check the distribution of p(x|y=0)\n",
    "# plot check\n",
    "count, bins, ignored = plt.hist(x_y0, 40, density=True)\n",
    "# plt.plot(bins, np.ones_like(bins), linewidth=2)\n",
    "plt.show()"
   ]
  },
  {
   "cell_type": "code",
   "execution_count": 240,
   "metadata": {
    "scrolled": true
   },
   "outputs": [
    {
     "data": {
      "image/png": "[encoded data removed]",
      "text/plain": [
       "<Figure size 432x288 with 1 Axes>"
      ]
     },
     "metadata": {},
     "output_type": "display_data"
    }
   ],
   "source": [
    "# check the distribution of p(x|y=1)\n",
    "# plot check\n",
    "count, bins, ignored = plt.hist(x_y1, 40, density=True)\n",
    "# plt.plot(bins, np.ones_like(bins), linewidth=2)\n",
    "plt.show()"
   ]
  },
  {
   "cell_type": "code",
   "execution_count": 10,
   "metadata": {},
   "outputs": [
    {
     "data": {
      "image/png": "[encoded data removed]",
      "text/plain": [
       "<Figure size 432x288 with 1 Axes>"
      ]
     },
     "metadata": {},
     "output_type": "display_data"
    }
   ],
   "source": [
    "# plot check\n",
    "count, bins, ignored = plt.hist([x_y1,x_y0], 40, density=True)\n",
    "# plt.plot(bins, np.ones_like(bins), linewidth=2)\n",
    "plt.show()"
   ]
  },
  {
   "cell_type": "code",
   "execution_count": 243,
   "metadata": {},
   "outputs": [],
   "source": [
    "# function definition\n",
    "def create_data(N):\n",
    "    y = np.random.randint(2, size=N)\n",
    "    x = np.array([])\n",
    "    # array benchmark of p(x|y=0)\n",
    "    #x_y0 = np.array([])\n",
    "    # array benchmark of p(x|y=1)\n",
    "    #x_y1 = np.array([])\n",
    "    # get the features x\n",
    "    for k in range(N):\n",
    "        u = np.random.uniform(0,1,1)\n",
    "        if y[k]==0:\n",
    "           #all_primes = np.append(all_primes,[n])\n",
    "            x = np.append(x,[1 - np.sqrt(1-u)]) \n",
    "            #x_y0 = np.append(x_y0,[1 - np.sqrt(1-u)]) \n",
    "        else:\n",
    "            x = np.append(x,[np.sqrt(u)])\n",
    "            #x_y1 = np.append(x_y1,[np.sqrt(u)])\n",
    "    return x, y #, x_y0, x_y1\n",
    "\n"
   ]
  },
  {
   "cell_type": "code",
   "execution_count": 245,
   "metadata": {},
   "outputs": [
    {
     "data": {
      "image/png": "[encoded data removed]",
      "text/plain": [
       "<Figure size 432x288 with 1 Axes>"
      ]
     },
     "metadata": {},
     "output_type": "display_data"
    }
   ],
   "source": [
    "# function check\n",
    "N=200\n",
    "x, y = create_data(N)\n",
    "# check the distribution of p(x|y=0)\n",
    "# plot check\n",
    "count, bins, ignored = plt.hist(x, 20, density=True)\n",
    "# plt.plot(bins, np.ones_like(bins), linewidth=2)\n",
    "plt.show()"
   ]
  },
  {
   "cell_type": "markdown",
   "metadata": {},
   "source": [
    "Exercise 1.3"
   ]
  },
  {
   "cell_type": "code",
   "execution_count": 509,
   "metadata": {},
   "outputs": [
    {
     "data": {
      "image/png": "[encoded data removed]",
      "text/plain": [
       "<Figure size 432x288 with 1 Axes>"
      ]
     },
     "metadata": {},
     "output_type": "display_data"
    },
    {
     "name": "stdout",
     "output_type": "stream",
     "text": [
      "[1 0 1 0 1 0 1 0 1 0]\n"
     ]
    }
   ],
   "source": [
    "# function that always gives the  correct data set\n",
    "def rejection_sampling_data(N):\n",
    "    x, y = create_data(N)\n",
    "    for k in range(N-1):\n",
    "        while y[k]==y[k+1]:\n",
    "            a, b = create_data(1)\n",
    "            x[k+1] = a\n",
    "            y[k+1] = b\n",
    "    return x, y\n",
    "# check\n",
    "x, y = rejection_sampling_data(10)\n",
    "# plot check\n",
    "count, bins, ignored = plt.hist(x, 40, density=True)\n",
    "# plt.plot(bins, np.ones_like(bins), linewidth=2)\n",
    "plt.show()\n",
    "print(y)"
   ]
  },
  {
   "cell_type": "code",
   "execution_count": 484,
   "metadata": {},
   "outputs": [],
   "source": [
    "# rule A\n",
    "def f_A(x):\n",
    "    # predictions\n",
    "    f = np.array([])\n",
    "    # Define the bisector\n",
    "    t = np.sum(x)/len(x)\n",
    "    for k in range(len(x)):\n",
    "        if x[k] < t:\n",
    "            f = np.append(f,[0])\n",
    "        else:\n",
    "            f = np.append(f,[1])\n",
    "    return f\n",
    "\n",
    "# rule B\n",
    "def f_B(x):\n",
    "    # predictions\n",
    "    f = np.array([])\n",
    "    # Define the bisector\n",
    "    t = np.sum(x)/len(x)\n",
    "    for k in range(len(x)):\n",
    "        if x[k] < t:\n",
    "            f = np.append(f,[1])\n",
    "        else:\n",
    "            f = np.append(f,[0])\n",
    "    return f\n",
    "\n"
   ]
  },
  {
   "cell_type": "code",
   "execution_count": 516,
   "metadata": {},
   "outputs": [
    {
     "name": "stdout",
     "output_type": "stream",
     "text": [
      "[ 0.  1.  0.  0. -1.  0.  0.  0. -1.  0.]\n",
      "[1. 1. 1. 0. 0. 0. 1. 0. 0. 0.]\n",
      "[1 0 1 0 1 0 1 0 1 0]\n"
     ]
    }
   ],
   "source": [
    "# test functions\n",
    "print(f_A(x)-y)\n",
    "print(f_A(x))\n",
    "print(y)"
   ]
  },
  {
   "cell_type": "code",
   "execution_count": 526,
   "metadata": {},
   "outputs": [
    {
     "name": "stdout",
     "output_type": "stream",
     "text": [
      "0\n",
      "[1 0]\n"
     ]
    }
   ],
   "source": [
    "# Check if the prediction is correct\n",
    "def error_function(y, f):\n",
    "    err=0\n",
    "    diff = y - f\n",
    "    for k in range(len(y)):\n",
    "        if int(abs(diff[k])) == 0:\n",
    "            err += 0\n",
    "        else:\n",
    "            err += 1\n",
    "    return err\n",
    "#test\n",
    "print(error_function(y,f_A(x)))\n",
    "print(y)"
   ]
  },
  {
   "cell_type": "code",
   "execution_count": 787,
   "metadata": {},
   "outputs": [
    {
     "name": "stdout",
     "output_type": "stream",
     "text": [
      "0.4972\n"
     ]
    }
   ],
   "source": [
    "## error rate of 100 training sets\n",
    "# size of the training set\n",
    "N = 2\n",
    "# number of training set\n",
    "n_TS = 10000\n",
    "#total error\n",
    "tot_error = 0\n",
    "error_A =0\n",
    "error_B = 0\n",
    "count =0\n",
    "x, y = rejection_sampling_data(N)\n",
    "for k in range(n_TS):\n",
    "    x, y = rejection_sampling_data(N)\n",
    "    f=0\n",
    "    #print(x)\n",
    "    #print(y)\n",
    "    for j in range(N-1):\n",
    "        if x[j]<x[j+1]:\n",
    "            f=f_A(x)\n",
    "        #print(f_A(x))\n",
    "        else:\n",
    "            f=f_B(x)\n",
    "            #print(f_B(x))\n",
    "    tot_error += error_function(y,f)\n",
    "    \n",
    "print(tot_error/(N*n_TS))"
   ]
  }
 ],
 "metadata": {
  "kernelspec": {
   "display_name": "Python 3",
   "language": "python",
   "name": "python3"
  },
  "language_info": {
   "codemirror_mode": {
    "name": "ipython",
    "version": 3
   },
   "file_extension": ".py",
   "mimetype": "text/x-python",
   "name": "python",
   "nbconvert_exporter": "python",
   "pygments_lexer": "ipython3",
   "version": "3.6.5"
  }
 },
 "nbformat": 4,
 "nbformat_minor": 2
}
